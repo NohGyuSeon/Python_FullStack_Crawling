{
 "cells": [
  {
   "cell_type": "code",
   "execution_count": 52,
   "id": "f78f1906",
   "metadata": {},
   "outputs": [],
   "source": [
    "location = [\"서울시\", \"경기도\", \"광주시\"]"
   ]
  },
  {
   "cell_type": "code",
   "execution_count": 53,
   "id": "f211b142",
   "metadata": {},
   "outputs": [
    {
     "data": {
      "text/plain": [
       "['서울시', '경기도', '광주시']"
      ]
     },
     "execution_count": 53,
     "metadata": {},
     "output_type": "execute_result"
    }
   ],
   "source": [
    "location"
   ]
  },
  {
   "cell_type": "code",
   "execution_count": 54,
   "id": "868ab94a",
   "metadata": {},
   "outputs": [],
   "source": [
    "location.append(\"부산시\")"
   ]
  },
  {
   "cell_type": "code",
   "execution_count": 55,
   "id": "c2d2da03",
   "metadata": {},
   "outputs": [
    {
     "name": "stdout",
     "output_type": "stream",
     "text": [
      "['서울시', '경기도', '광주시', '부산시']\n"
     ]
    }
   ],
   "source": [
    "print(location)"
   ]
  },
  {
   "cell_type": "code",
   "execution_count": 56,
   "id": "e722905c",
   "metadata": {},
   "outputs": [
    {
     "data": {
      "text/plain": [
       "['경기도', '광주시']"
      ]
     },
     "execution_count": 56,
     "metadata": {},
     "output_type": "execute_result"
    }
   ],
   "source": [
    "location[1:3]"
   ]
  },
  {
   "cell_type": "code",
   "execution_count": 60,
   "id": "3271ff1a",
   "metadata": {},
   "outputs": [],
   "source": [
    "location.remove('서울시') "
   ]
  },
  {
   "cell_type": "code",
   "execution_count": 61,
   "id": "212b74c7",
   "metadata": {},
   "outputs": [
    {
     "data": {
      "text/plain": [
       "['광주시', '부산시']"
      ]
     },
     "execution_count": 61,
     "metadata": {},
     "output_type": "execute_result"
    }
   ],
   "source": [
    "location"
   ]
  },
  {
   "cell_type": "code",
   "execution_count": 62,
   "id": "45f54d39",
   "metadata": {},
   "outputs": [],
   "source": [
    "del location[1]"
   ]
  },
  {
   "cell_type": "code",
   "execution_count": 63,
   "id": "4933a5cc",
   "metadata": {},
   "outputs": [
    {
     "data": {
      "text/plain": [
       "['광주시']"
      ]
     },
     "execution_count": 63,
     "metadata": {},
     "output_type": "execute_result"
    }
   ],
   "source": [
    "location"
   ]
  },
  {
   "cell_type": "code",
   "execution_count": 64,
   "id": "4c26210c",
   "metadata": {},
   "outputs": [],
   "source": [
    "location.append(\"경기도\")"
   ]
  },
  {
   "cell_type": "code",
   "execution_count": 65,
   "id": "22951513",
   "metadata": {},
   "outputs": [
    {
     "data": {
      "text/plain": [
       "['광주시', '경기도']"
      ]
     },
     "execution_count": 65,
     "metadata": {},
     "output_type": "execute_result"
    }
   ],
   "source": [
    "location"
   ]
  },
  {
   "cell_type": "code",
   "execution_count": 66,
   "id": "ddc95219",
   "metadata": {},
   "outputs": [],
   "source": [
    "location.insert(1, \"규선\")"
   ]
  },
  {
   "cell_type": "code",
   "execution_count": 67,
   "id": "c1cf5d95",
   "metadata": {},
   "outputs": [
    {
     "data": {
      "text/plain": [
       "['광주시', '규선', '경기도']"
      ]
     },
     "execution_count": 67,
     "metadata": {},
     "output_type": "execute_result"
    }
   ],
   "source": [
    "location"
   ]
  },
  {
   "cell_type": "code",
   "execution_count": 68,
   "id": "b771a60e",
   "metadata": {},
   "outputs": [],
   "source": [
    "list = []"
   ]
  },
  {
   "cell_type": "code",
   "execution_count": 69,
   "id": "cbf1fd23",
   "metadata": {},
   "outputs": [],
   "source": [
    "list.append('서울시')"
   ]
  },
  {
   "cell_type": "code",
   "execution_count": 70,
   "id": "df05cbbc",
   "metadata": {},
   "outputs": [
    {
     "data": {
      "text/plain": [
       "['서울시']"
      ]
     },
     "execution_count": 70,
     "metadata": {},
     "output_type": "execute_result"
    }
   ],
   "source": [
    "list"
   ]
  },
  {
   "cell_type": "markdown",
   "id": "b2a33119",
   "metadata": {},
   "source": [
    "## 리스트 변수\n",
    "1. 리스트 선언\n",
    "\"\"\"\n",
    "    - 리스트변수 = []\n",
    "    - 리스트변수 = list()\n",
    "\"\"\"\n",
    "2. 리스트 추가\n",
    "\"\"\"\n",
    "    - 리스트변수.append(데이터)\n",
    "    - 리스트변수.insert\n",
    "\"\"\"\n",
    "\n",
    "3. 리스트 삭제\n",
    "\"\"\"\n",
    "    - 리스트변수.remove(데이터)\n",
    "    - del 리스트변수 [인덱스번호]\n",
    "\"\"\"\n",
    "\n",
    "4. 리스트 데이터 수정\n",
    "    - 리스트변수[인덱스번호] = 수정할 데이터"
   ]
  },
  {
   "cell_type": "code",
   "execution_count": 71,
   "id": "553699e3",
   "metadata": {},
   "outputs": [
    {
     "data": {
      "text/plain": [
       "['광주시', '규선', '경기도']"
      ]
     },
     "execution_count": 71,
     "metadata": {},
     "output_type": "execute_result"
    }
   ],
   "source": [
    "location"
   ]
  },
  {
   "cell_type": "code",
   "execution_count": 72,
   "id": "011f9edb",
   "metadata": {},
   "outputs": [],
   "source": [
    "location.insert(3, 3)"
   ]
  },
  {
   "cell_type": "code",
   "execution_count": 73,
   "id": "3eef2ad2",
   "metadata": {},
   "outputs": [],
   "source": [
    "location.insert(4, True)"
   ]
  },
  {
   "cell_type": "code",
   "execution_count": 74,
   "id": "c1bae6fd",
   "metadata": {},
   "outputs": [
    {
     "data": {
      "text/plain": [
       "['광주시', '규선', '경기도', 3, True]"
      ]
     },
     "execution_count": 74,
     "metadata": {},
     "output_type": "execute_result"
    }
   ],
   "source": [
    "location"
   ]
  },
  {
   "cell_type": "code",
   "execution_count": 75,
   "id": "86d5db81",
   "metadata": {},
   "outputs": [],
   "source": [
    "lang = [\"C\", \"Java\", \"golang\"]"
   ]
  },
  {
   "cell_type": "code",
   "execution_count": 77,
   "id": "7420d76d",
   "metadata": {},
   "outputs": [
    {
     "data": {
      "text/plain": [
       "['python', 'is', 'easy']"
      ]
     },
     "execution_count": 77,
     "metadata": {},
     "output_type": "execute_result"
    }
   ],
   "source": [
    "python_is_easy = \"python is easy\"\n",
    "python_is_easy.split()"
   ]
  },
  {
   "cell_type": "code",
   "execution_count": 82,
   "id": "09e27ddc",
   "metadata": {
    "scrolled": true
   },
   "outputs": [
    {
     "data": {
      "text/plain": [
       "['golang', 'Java', 'C']"
      ]
     },
     "execution_count": 82,
     "metadata": {},
     "output_type": "execute_result"
    }
   ],
   "source": [
    "lang.reverse()\n",
    "lang"
   ]
  },
  {
   "cell_type": "code",
   "execution_count": 4,
   "id": "435065ab",
   "metadata": {},
   "outputs": [
    {
     "name": "stdout",
     "output_type": "stream",
     "text": [
      "나이는?22\n",
      "당신은 으른입니다 ㅋ\n",
      "당신은 으른입니다 ㅋㅋ\n",
      "당신은 으른입니다 ㅋㅋㅋ\n",
      "당신은 으른입니다 ㅋㅋㅋㅋ\n"
     ]
    }
   ],
   "source": [
    "age = input(\"나이는?\")\n",
    "age_digit = int(age)\n",
    "if age_digit > 19:\n",
    "    print(\"당신은 으른입니다 ㅋ\")\n",
    "    print(\"당신은 으른입니다 ㅋㅋ\")\n",
    "    print(\"당신은 으른입니다 ㅋㅋㅋ\")\n",
    "    print(\"당신은 으른입니다 ㅋㅋㅋㅋ\")"
   ]
  },
  {
   "cell_type": "code",
   "execution_count": 11,
   "id": "34dbd266",
   "metadata": {},
   "outputs": [
    {
     "name": "stdout",
     "output_type": "stream",
     "text": [
      "철수의 나이는?15\n",
      "영희의 나이는?22\n",
      "19금\n"
     ]
    }
   ],
   "source": [
    "age1 = input(\"철수의 나이는?\")\n",
    "age_digit1 = int(age1)\n",
    "\n",
    "age2 = input(\"영희의 나이는?\")\n",
    "age_digit2 = int(age2)\n",
    "\n",
    "if not age_digit1 >= 19:\n",
    "    print(\"19금\")"
   ]
  },
  {
   "cell_type": "code",
   "execution_count": 13,
   "id": "569cb5c8",
   "metadata": {},
   "outputs": [
    {
     "name": "stdout",
     "output_type": "stream",
     "text": [
      "현금은?50000\n"
     ]
    }
   ],
   "source": [
    "cash = int(input(\"현금은?\"))\n",
    "if cash > 100000:\n",
    "    print(\"레스토랑으로 간다\")"
   ]
  },
  {
   "cell_type": "code",
   "execution_count": 22,
   "id": "faa62b94",
   "metadata": {},
   "outputs": [
    {
     "name": "stdout",
     "output_type": "stream",
     "text": [
      "나이는?2\n",
      "안녕?\n",
      "안녕하세요!\n"
     ]
    }
   ],
   "source": [
    "age = int (input(\"나이는?\"))\n",
    "if age >= 19:\n",
    "    print(\"당신은 성인입니다.\")\n",
    "elif age >=13 and age < 19:\n",
    "    print(\"당신은 청소년입니다.\")\n",
    "elif age >= 5 and age < 13:\n",
    "    print(\"당신은 유아입니다.\")\n",
    "else:\n",
    "    print(\"안녕?\")\n",
    "    \n",
    "print(\"안녕하세요!\")"
   ]
  },
  {
   "cell_type": "code",
   "execution_count": 31,
   "id": "5fdd48ac",
   "metadata": {},
   "outputs": [
    {
     "name": "stdout",
     "output_type": "stream",
     "text": [
      "현금은? 67000\n",
      "밥집\n"
     ]
    }
   ],
   "source": [
    "cash = int (input(\"현금은? \"))\n",
    "if cash > 100000:\n",
    "    print(\"레스토랑\")\n",
    "else:\n",
    "    if cash > 50000:\n",
    "        if cash > 70000:\n",
    "            print(\"패밀리 레스토랑\")\n",
    "        elif cash > 60000:\n",
    "            print(\"밥집\")\n",
    "        else:\n",
    "            print(\"분식집\")\n",
    "    else:\n",
    "        print(\"집\")"
   ]
  },
  {
   "cell_type": "code",
   "execution_count": 15,
   "id": "4bb3a8bb",
   "metadata": {},
   "outputs": [
    {
     "name": "stdout",
     "output_type": "stream",
     "text": [
      "55\n"
     ]
    }
   ],
   "source": [
    "sum = 0\n",
    "for index in range(1, 11):\n",
    "    sum = sum + index\n",
    "print(sum)"
   ]
  },
  {
   "cell_type": "code",
   "execution_count": 14,
   "id": "b0ab6a2f",
   "metadata": {},
   "outputs": [
    {
     "name": "stdout",
     "output_type": "stream",
     "text": [
      "ngs\n",
      "jueun\n",
      "sangin\n"
     ]
    }
   ],
   "source": [
    "for index in [\"ngs\", \"jueun\", \"sangin\"]:\n",
    "    print(index)"
   ]
  },
  {
   "cell_type": "code",
   "execution_count": 16,
   "id": "61ef2ff8",
   "metadata": {},
   "outputs": [
    {
     "name": "stdout",
     "output_type": "stream",
     "text": [
      "0\n",
      "1\n",
      "2\n",
      "3\n"
     ]
    }
   ],
   "source": [
    "i = 0\n",
    "while i <= 3:\n",
    "    print(i)\n",
    "    i = i + 1"
   ]
  },
  {
   "cell_type": "code",
   "execution_count": 18,
   "id": "7e5f7e8b",
   "metadata": {},
   "outputs": [
    {
     "name": "stdout",
     "output_type": "stream",
     "text": [
      "What's your name? ngs\n",
      "Hi, ngsSo, where is foo bar?\n",
      "What's your name? ngs\n",
      "Hi, ngsSo, where is foo bar?\n",
      "What's your name? foo bar\n",
      "Hi, foo barSo, where is foo bar?\n"
     ]
    }
   ],
   "source": [
    "name = ''\n",
    "while name != \"foo bar\":\n",
    "    name = input(\"What's your name? \")\n",
    "    print(\"Hi, \" + name + \" So, where is foo bar?\")"
   ]
  },
  {
   "cell_type": "code",
   "execution_count": 20,
   "id": "bb190ab4",
   "metadata": {},
   "outputs": [
    {
     "name": "stdout",
     "output_type": "stream",
     "text": [
      "55\n"
     ]
    }
   ],
   "source": [
    "sum = 0\n",
    "for i in range(1, 11):\n",
    "    sum += i\n",
    "print(sum)"
   ]
  },
  {
   "cell_type": "code",
   "execution_count": 23,
   "id": "f908decb",
   "metadata": {},
   "outputs": [
    {
     "name": "stdout",
     "output_type": "stream",
     "text": [
      "10\n"
     ]
    }
   ],
   "source": [
    "data = int(input())\n",
    "\n",
    "if data >= 2 and data <= 9:\n",
    "    for digit in range(1, 10):\n",
    "        print(data, \"X\", digit, \"=\", data*digit)"
   ]
  },
  {
   "cell_type": "code",
   "execution_count": 37,
   "id": "1a6ab7e3",
   "metadata": {},
   "outputs": [
    {
     "name": "stdout",
     "output_type": "stream",
     "text": [
      "Dave,David,Andy,Arthor\n",
      "Dave\n",
      "David\n",
      "Andy\n",
      "Arthor\n"
     ]
    }
   ],
   "source": [
    "data = input()\n",
    "\n",
    "data_list = data.split(\",\")\n",
    "\n",
    "for str_list in data_list:\n",
    "    print(str_list)"
   ]
  },
  {
   "cell_type": "code",
   "execution_count": 42,
   "id": "3931ee3f",
   "metadata": {},
   "outputs": [
    {
     "name": "stdout",
     "output_type": "stream",
     "text": [
      "Dave,David,Andy,Arthor\n",
      "Dave\n",
      "David\n",
      "Andy\n",
      "Arthor\n"
     ]
    }
   ],
   "source": [
    "data = input().split(\",\")\n",
    "\n",
    "for i in range(len(data)):\n",
    "    print(data[i])"
   ]
  },
  {
   "cell_type": "code",
   "execution_count": 36,
   "id": "7ff9ed69",
   "metadata": {},
   "outputs": [
    {
     "name": "stdout",
     "output_type": "stream",
     "text": [
      "Dave\n",
      "David\n",
      "Andy\n",
      "Arthor\n"
     ]
    }
   ],
   "source": [
    "data = \"[Dave],[David],[Andy],[Arthor]\"\n",
    "\n",
    "for str_list in data.split(\",\"):\n",
    "    print(str_list[1:-1])"
   ]
  },
  {
   "cell_type": "code",
   "execution_count": 43,
   "id": "7d176b10",
   "metadata": {},
   "outputs": [
    {
     "name": "stdout",
     "output_type": "stream",
     "text": [
      "3\n",
      "6\n",
      "9\n",
      "12\n",
      "15\n",
      "18\n",
      "21\n",
      "24\n",
      "27\n",
      "30\n"
     ]
    }
   ],
   "source": [
    "for i in range(1, 31):\n",
    "    if (i % 3 == 0):\n",
    "        print(i)"
   ]
  },
  {
   "cell_type": "code",
   "execution_count": 47,
   "id": "83596bcf",
   "metadata": {},
   "outputs": [
    {
     "name": "stdout",
     "output_type": "stream",
     "text": [
      "5050\n"
     ]
    }
   ],
   "source": [
    "sum = 0\n",
    "index = 1\n",
    "\n",
    "while index <= 100:\n",
    "    sum += index\n",
    "    index += 1\n",
    "    \n",
    "print(sum)"
   ]
  },
  {
   "cell_type": "code",
   "execution_count": 49,
   "id": "e502edfa",
   "metadata": {},
   "outputs": [
    {
     "name": "stdout",
     "output_type": "stream",
     "text": [
      "exercise01\n",
      "exercise02\n",
      "exercise03\n",
      "exercise04\n",
      "exercise05\n"
     ]
    }
   ],
   "source": [
    "filelist = ['exercise01.docx', 'exercise02.docx', 'exercise03.docx', 'exercise04.docx', 'exercise05.docx']\n",
    "\n",
    "for filename in filelist:\n",
    "    print(filename.split(\".\")[0])"
   ]
  },
  {
   "cell_type": "code",
   "execution_count": 51,
   "id": "c5b51116",
   "metadata": {},
   "outputs": [
    {
     "name": "stdout",
     "output_type": "stream",
     "text": [
      "exercise03.txt\n"
     ]
    }
   ],
   "source": [
    "filelist = ['exercise01.docx', 'exercise02.csv', 'exercise03.txt', 'exercise04.hwp']\n",
    "\n",
    "for filename in filelist:\n",
    "    if filename.split(\".\")[1] == 'txt':\n",
    "        print(filename)"
   ]
  },
  {
   "cell_type": "code",
   "execution_count": 58,
   "id": "5a6ec02e",
   "metadata": {},
   "outputs": [],
   "source": [
    "def func1(parameter1, parameter2):\n",
    "    print(\"Hello!\", parameter1)\n",
    "    print(\"Hello!\", parameter2)"
   ]
  },
  {
   "cell_type": "code",
   "execution_count": 59,
   "id": "e2d81a47",
   "metadata": {},
   "outputs": [
    {
     "name": "stdout",
     "output_type": "stream",
     "text": [
      "Hello! Python\n",
      "Hello! JAVA\n"
     ]
    }
   ],
   "source": [
    "func1(\"Python\", \"JAVA\")"
   ]
  },
  {
   "cell_type": "code",
   "execution_count": 68,
   "id": "bb713355",
   "metadata": {},
   "outputs": [],
   "source": [
    "def func2(data1, data2):\n",
    "    return data1 * (data1 + data2)"
   ]
  },
  {
   "cell_type": "code",
   "execution_count": 70,
   "id": "0d3f521e",
   "metadata": {},
   "outputs": [
    {
     "data": {
      "text/plain": [
       "12"
      ]
     },
     "execution_count": 70,
     "metadata": {},
     "output_type": "execute_result"
    }
   ],
   "source": [
    "func2(2, 4)"
   ]
  },
  {
   "cell_type": "code",
   "execution_count": 74,
   "id": "10eff9fd",
   "metadata": {},
   "outputs": [
    {
     "name": "stdout",
     "output_type": "stream",
     "text": [
      "5\n"
     ]
    }
   ],
   "source": [
    "def awe_sum(a,b):\n",
    "    # local variable\n",
    "    c = 1\n",
    "    result = a + b\n",
    "    return result\n",
    "\n",
    "# global variable\n",
    "a = 1\n",
    "\n",
    "print(awe_sum(2,3))"
   ]
  },
  {
   "cell_type": "code",
   "execution_count": 79,
   "id": "dc89bc08",
   "metadata": {},
   "outputs": [
    {
     "name": "stdout",
     "output_type": "stream",
     "text": [
      "hello\n"
     ]
    }
   ],
   "source": [
    "def print_hello():\n",
    "    return \"hello\"\n",
    "\n",
    "result_hello = print_hello()\n",
    "print(result_hello)"
   ]
  },
  {
   "cell_type": "code",
   "execution_count": 78,
   "id": "63fd19d4",
   "metadata": {},
   "outputs": [
    {
     "name": "stdout",
     "output_type": "stream",
     "text": [
      "This is function without return for 1 times.\n"
     ]
    }
   ],
   "source": [
    "def func_wo_return(a):\n",
    "    print(\"This is function without return for \" + str(a) + \" times.\")\n",
    "    \n",
    "func_wo_return(1)"
   ]
  },
  {
   "cell_type": "code",
   "execution_count": 84,
   "id": "150da53c",
   "metadata": {},
   "outputs": [],
   "source": [
    "def mul_return(a):\n",
    "    b = a + 1\n",
    "    return a,b"
   ]
  },
  {
   "cell_type": "code",
   "execution_count": 83,
   "id": "dbfd1c8e",
   "metadata": {},
   "outputs": [],
   "source": [
    "def id_check(id):\n",
    "    if id == \"admin\":\n",
    "        print(\"invalid id: admin\")\n",
    "        return\n",
    "    print(\"valid id: \", id)"
   ]
  },
  {
   "cell_type": "markdown",
   "id": "1ac06940",
   "metadata": {},
   "source": [
    "# 데이터 구조: 튜플\n",
    "* 선언 + 입력 : 변수명 = (1, 2, 3, 4)\n",
    "* 읽기: 변수명[인덱스번호]\n",
    "* 추가\n",
    "* 삭제\n",
    "* 수정"
   ]
  },
  {
   "cell_type": "code",
   "execution_count": 93,
   "id": "67617c64",
   "metadata": {},
   "outputs": [],
   "source": [
    "data1 = (1, 2, 3)"
   ]
  },
  {
   "cell_type": "code",
   "execution_count": 94,
   "id": "02dc1353",
   "metadata": {},
   "outputs": [],
   "source": [
    "data2 = (4, 5, 6)"
   ]
  },
  {
   "cell_type": "code",
   "execution_count": 95,
   "id": "93d6b1f9",
   "metadata": {},
   "outputs": [
    {
     "data": {
      "text/plain": [
       "2"
      ]
     },
     "execution_count": 95,
     "metadata": {},
     "output_type": "execute_result"
    }
   ],
   "source": [
    "data1[1]"
   ]
  },
  {
   "cell_type": "code",
   "execution_count": 97,
   "id": "5f583055",
   "metadata": {},
   "outputs": [
    {
     "name": "stdout",
     "output_type": "stream",
     "text": [
      "<class 'tuple'>\n"
     ]
    },
    {
     "data": {
      "text/plain": [
       "(1, 2, 3)"
      ]
     },
     "execution_count": 97,
     "metadata": {},
     "output_type": "execute_result"
    }
   ],
   "source": [
    "print(type(data1))\n",
    "data1"
   ]
  },
  {
   "cell_type": "code",
   "execution_count": 98,
   "id": "cf949acb",
   "metadata": {},
   "outputs": [
    {
     "data": {
      "text/plain": [
       "(1, 2, 3, 4, 5, 6)"
      ]
     },
     "execution_count": 98,
     "metadata": {},
     "output_type": "execute_result"
    }
   ],
   "source": [
    "data1 + data2"
   ]
  },
  {
   "cell_type": "code",
   "execution_count": 99,
   "id": "ae6eb5fe",
   "metadata": {},
   "outputs": [
    {
     "data": {
      "text/plain": [
       "(1, 2, 3, 1, 2, 3, 1, 2, 3)"
      ]
     },
     "execution_count": 99,
     "metadata": {},
     "output_type": "execute_result"
    }
   ],
   "source": [
    "data1 * 3"
   ]
  },
  {
   "cell_type": "code",
   "execution_count": 100,
   "id": "234adff5",
   "metadata": {},
   "outputs": [],
   "source": [
    "x = 1\n",
    "y = 2\n"
   ]
  },
  {
   "cell_type": "code",
   "execution_count": 101,
   "id": "b9d4c450",
   "metadata": {},
   "outputs": [],
   "source": [
    "temp = x\n",
    "x = y\n",
    "y = temp"
   ]
  },
  {
   "cell_type": "code",
   "execution_count": 103,
   "id": "8cc91576",
   "metadata": {},
   "outputs": [
    {
     "name": "stdout",
     "output_type": "stream",
     "text": [
      "2 1\n"
     ]
    }
   ],
   "source": [
    "print(x, y)"
   ]
  },
  {
   "cell_type": "code",
   "execution_count": 108,
   "id": "15475889",
   "metadata": {},
   "outputs": [
    {
     "name": "stdout",
     "output_type": "stream",
     "text": [
      "1 2\n"
     ]
    }
   ],
   "source": [
    "x, y = y, x\n",
    "print(x, y)"
   ]
  },
  {
   "cell_type": "code",
   "execution_count": 110,
   "id": "66960145",
   "metadata": {},
   "outputs": [
    {
     "name": "stdout",
     "output_type": "stream",
     "text": [
      "0 3\n"
     ]
    }
   ],
   "source": [
    "def quot_and_rem(x,y):\n",
    "    quot = x // y\n",
    "    rem = x % y\n",
    "    return quot, rem\n",
    "\n",
    "quot, rem = quot_and_rem(3,10)\n",
    "print(quot, rem)"
   ]
  },
  {
   "cell_type": "markdown",
   "id": "b3a016f0",
   "metadata": {},
   "source": [
    "# 데이터 구조: 딕셔너리 또는 사전\n",
    "* 선언 + 입력 : 변수명 = {} 또는 dict(), 초기값과 함께 선언\n",
    "* 읽기: 변수명[키]\n",
    "* 추가: 변수명[새로운키] = 새로운값\n",
    "* 삭제: del 변수명[삭제할키]\n",
    "* 수정: 변수"
   ]
  },
  {
   "cell_type": "code",
   "execution_count": 111,
   "id": "678ab377",
   "metadata": {},
   "outputs": [],
   "source": [
    "data_list = list() # []\n",
    "data_tuple = tuple() # ()\n",
    "data_dict = dict() # {}\n",
    "data_set = set() # {}"
   ]
  },
  {
   "cell_type": "code",
   "execution_count": 121,
   "id": "eea4a449",
   "metadata": {},
   "outputs": [
    {
     "data": {
      "text/plain": [
       "'KR'"
      ]
     },
     "execution_count": 121,
     "metadata": {},
     "output_type": "execute_result"
    }
   ],
   "source": [
    "data_dict = {'한국':'KR', '일본':'JP', '중국':'CN'}\n",
    "\n",
    "data_dict['한국']"
   ]
  },
  {
   "cell_type": "code",
   "execution_count": 123,
   "id": "bad8d581",
   "metadata": {},
   "outputs": [
    {
     "data": {
      "text/plain": [
       "{'한국': 'KR', '일본': 'JP', '중국': 'CN', '미국': 'US'}"
      ]
     },
     "execution_count": 123,
     "metadata": {},
     "output_type": "execute_result"
    }
   ],
   "source": [
    "data_dict['미국'] = 'US'\n",
    "\n",
    "data_dict"
   ]
  },
  {
   "cell_type": "code",
   "execution_count": 124,
   "id": "27eb44cf",
   "metadata": {},
   "outputs": [
    {
     "data": {
      "text/plain": [
       "{'일본': 'JP', '중국': 'CN', '미국': 'US'}"
      ]
     },
     "execution_count": 124,
     "metadata": {},
     "output_type": "execute_result"
    }
   ],
   "source": [
    "del data_dict['한국']\n",
    "\n",
    "data_dict"
   ]
  },
  {
   "cell_type": "code",
   "execution_count": 125,
   "id": "6f825422",
   "metadata": {},
   "outputs": [
    {
     "data": {
      "text/plain": [
       "{'일본': 'JR', '중국': 'CN', '미국': 'US'}"
      ]
     },
     "execution_count": 125,
     "metadata": {},
     "output_type": "execute_result"
    }
   ],
   "source": [
    "data_dict['일본'] = \"JR\"\n",
    "\n",
    "data_dict"
   ]
  },
  {
   "cell_type": "code",
   "execution_count": 133,
   "id": "4bffeb04",
   "metadata": {},
   "outputs": [
    {
     "data": {
      "text/plain": [
       "dict_keys(['일본', '중국', '미국'])"
      ]
     },
     "execution_count": 133,
     "metadata": {},
     "output_type": "execute_result"
    }
   ],
   "source": [
    "data_dict.keys()"
   ]
  },
  {
   "cell_type": "code",
   "execution_count": 134,
   "id": "2225425b",
   "metadata": {},
   "outputs": [
    {
     "name": "stdout",
     "output_type": "stream",
     "text": [
      "일본\n",
      "중국\n",
      "미국\n"
     ]
    }
   ],
   "source": [
    "for keys in data_dict.keys():\n",
    "    print(keys)"
   ]
  },
  {
   "cell_type": "code",
   "execution_count": 135,
   "id": "985825be",
   "metadata": {},
   "outputs": [
    {
     "name": "stdout",
     "output_type": "stream",
     "text": [
      "JR\n",
      "CN\n",
      "US\n"
     ]
    }
   ],
   "source": [
    "for values in data_dict.values():\n",
    "    print(values)"
   ]
  },
  {
   "cell_type": "code",
   "execution_count": 136,
   "id": "3f6960fe",
   "metadata": {},
   "outputs": [
    {
     "data": {
      "text/plain": [
       "dict_items([('일본', 'JR'), ('중국', 'CN'), ('미국', 'US')])"
      ]
     },
     "execution_count": 136,
     "metadata": {},
     "output_type": "execute_result"
    }
   ],
   "source": [
    "data_dict.items()"
   ]
  },
  {
   "cell_type": "code",
   "execution_count": 157,
   "id": "1dd0907a",
   "metadata": {},
   "outputs": [],
   "source": [
    "for key in data_dict.keys():\n",
    "    print(data_dict[key])"
   ]
  },
  {
   "cell_type": "markdown",
   "id": "6dbff46a",
   "metadata": {},
   "source": [
    "# 데이터 구조: 집합 또는 set (집합 연산)\n",
    "* 선언 + 입력 : 변수명 = set(), 변수명 = {데이터1, 데이터2, ...}, 변수명 = set(데이터1), 변수명 = ({데이터1, 데이터2, ...})\n",
    "* 읽기: \n",
    "* 추가:\n",
    "* 삭제: \n",
    "* 수정: \n",
    "* (순서 없음, 중복 없음)"
   ]
  },
  {
   "cell_type": "code",
   "execution_count": 159,
   "id": "5c569045",
   "metadata": {},
   "outputs": [],
   "source": [
    "data_list = list() # []\n",
    "data_tuple = tuple() # ()\n",
    "data_dict = dict() # {}\n",
    "data_set = set() # {}"
   ]
  },
  {
   "cell_type": "code",
   "execution_count": 162,
   "id": "f07b4062",
   "metadata": {},
   "outputs": [
    {
     "data": {
      "text/plain": [
       "set"
      ]
     },
     "execution_count": 162,
     "metadata": {},
     "output_type": "execute_result"
    }
   ],
   "source": [
    "type(data_set)"
   ]
  },
  {
   "cell_type": "code",
   "execution_count": 163,
   "id": "5fec48a5",
   "metadata": {},
   "outputs": [
    {
     "data": {
      "text/plain": [
       "set"
      ]
     },
     "execution_count": 163,
     "metadata": {},
     "output_type": "execute_result"
    }
   ],
   "source": [
    "data_set = {'apple', 'dell', 'samsung', 'lg'}\n",
    "\n",
    "type(data_set)"
   ]
  },
  {
   "cell_type": "code",
   "execution_count": 164,
   "id": "04380f20",
   "metadata": {},
   "outputs": [
    {
     "name": "stdout",
     "output_type": "stream",
     "text": [
      "apple\n",
      "samsung\n",
      "dell\n",
      "lg\n"
     ]
    }
   ],
   "source": [
    "for data in data_set:\n",
    "    print(data)"
   ]
  },
  {
   "cell_type": "code",
   "execution_count": 165,
   "id": "721c0610",
   "metadata": {},
   "outputs": [
    {
     "name": "stdout",
     "output_type": "stream",
     "text": [
      "{'apple', 'samsung', 'dell', 'lg'}\n"
     ]
    }
   ],
   "source": [
    "if 'apple' in data_set:\n",
    "    print(data_set)"
   ]
  },
  {
   "cell_type": "code",
   "execution_count": 173,
   "id": "b11ecc35",
   "metadata": {},
   "outputs": [],
   "source": [
    "data1 = {'apple', 'samsung', 'lg'} # 스마트폰 생산 업체"
   ]
  },
  {
   "cell_type": "code",
   "execution_count": 174,
   "id": "84f0c4e8",
   "metadata": {},
   "outputs": [],
   "source": [
    "data2 = {'samsung', 'lg', 'xaiomi'} # TV 생산 업체"
   ]
  },
  {
   "cell_type": "code",
   "execution_count": 168,
   "id": "34ed72f2",
   "metadata": {},
   "outputs": [
    {
     "data": {
      "text/plain": [
       "{'lg', 'samsung'}"
      ]
     },
     "execution_count": 168,
     "metadata": {},
     "output_type": "execute_result"
    }
   ],
   "source": [
    "data1 & data2 # 교집합"
   ]
  },
  {
   "cell_type": "code",
   "execution_count": 169,
   "id": "a5b78d22",
   "metadata": {},
   "outputs": [
    {
     "data": {
      "text/plain": [
       "{'apple', 'lg', 'samsung', 'xaiomi'}"
      ]
     },
     "execution_count": 169,
     "metadata": {},
     "output_type": "execute_result"
    }
   ],
   "source": [
    "data1 | data2"
   ]
  },
  {
   "cell_type": "code",
   "execution_count": 176,
   "id": "d48ea27d",
   "metadata": {},
   "outputs": [
    {
     "data": {
      "text/plain": [
       "{'apple'}"
      ]
     },
     "execution_count": 176,
     "metadata": {},
     "output_type": "execute_result"
    }
   ],
   "source": [
    "data1 - data2"
   ]
  },
  {
   "cell_type": "code",
   "execution_count": 177,
   "id": "063c9156",
   "metadata": {},
   "outputs": [
    {
     "data": {
      "text/plain": [
       "{'apple', 'xaiomi'}"
      ]
     },
     "execution_count": 177,
     "metadata": {},
     "output_type": "execute_result"
    }
   ],
   "source": [
    "data1 ^ data2"
   ]
  },
  {
   "cell_type": "code",
   "execution_count": 178,
   "id": "6386b9cc",
   "metadata": {},
   "outputs": [
    {
     "data": {
      "text/plain": [
       "{'apple', 'dell', 'samsung'}"
      ]
     },
     "execution_count": 178,
     "metadata": {},
     "output_type": "execute_result"
    }
   ],
   "source": [
    "data_set = {'apple', 'apple', 'dell', 'samsung', 'apple'}\n",
    "\n",
    "data_set"
   ]
  },
  {
   "cell_type": "code",
   "execution_count": 2,
   "id": "88ffb46c",
   "metadata": {},
   "outputs": [
    {
     "name": "stdout",
     "output_type": "stream",
     "text": [
      "100 달러\n",
      "130000 원\n"
     ]
    }
   ],
   "source": [
    "prices = input()\n",
    "\n",
    "if prices[4:] == '달러':\n",
    "    print(int(prices[:4]) * 1312, '원')"
   ]
  },
  {
   "cell_type": "code",
   "execution_count": 4,
   "id": "62106afa",
   "metadata": {},
   "outputs": [
    {
     "name": "stdout",
     "output_type": "stream",
     "text": [
      "100위안\n"
     ]
    }
   ],
   "source": [
    "prices = input()\n",
    "\n",
    "if prices[4:] == '달러':\n",
    "    print (int(prices[:4]) * 1312, '원')\n",
    "elif prices[4:] == '위안':\n",
    "    print (int(prices[:4]) * 171, '원')    "
   ]
  },
  {
   "cell_type": "code",
   "execution_count": 12,
   "id": "c126f48f",
   "metadata": {},
   "outputs": [
    {
     "name": "stdout",
     "output_type": "stream",
     "text": [
      "100 엔\n",
      "101000 원\n"
     ]
    }
   ],
   "source": [
    "exchange = {'달러':1112, '위안':171, '엔':1010}\n",
    "prices = input()\n",
    "for exchange_item in exchange.keys():\n",
    "    if prices[4:] == exchange_item:\n",
    "        print (int(prices[:4]) * exchange[exchange_item], '원')"
   ]
  },
  {
   "cell_type": "code",
   "execution_count": 18,
   "id": "bc0f5902",
   "metadata": {},
   "outputs": [
    {
     "name": "stdout",
     "output_type": "stream",
     "text": [
      "2 X 1 = 2\n",
      "2 X 2 = 4\n",
      "2 X 3 = 6\n",
      "2 X 4 = 8\n",
      "2 X 5 = 10\n",
      "2 X 6 = 12\n",
      "2 X 7 = 14\n",
      "2 X 8 = 16\n",
      "2 X 9 = 18\n",
      "\n",
      "\n",
      "3 X 1 = 3\n",
      "3 X 2 = 6\n",
      "3 X 3 = 9\n",
      "3 X 4 = 12\n",
      "3 X 5 = 15\n",
      "3 X 6 = 18\n",
      "3 X 7 = 21\n",
      "3 X 8 = 24\n",
      "3 X 9 = 27\n",
      "\n",
      "\n",
      "4 X 1 = 4\n",
      "4 X 2 = 8\n",
      "4 X 3 = 12\n",
      "4 X 4 = 16\n",
      "4 X 5 = 20\n",
      "4 X 6 = 24\n",
      "4 X 7 = 28\n",
      "4 X 8 = 32\n",
      "4 X 9 = 36\n",
      "\n",
      "\n",
      "5 X 1 = 5\n",
      "5 X 2 = 10\n",
      "5 X 3 = 15\n",
      "5 X 4 = 20\n",
      "5 X 5 = 25\n",
      "5 X 6 = 30\n",
      "5 X 7 = 35\n",
      "5 X 8 = 40\n",
      "5 X 9 = 45\n",
      "\n",
      "\n",
      "6 X 1 = 6\n",
      "6 X 2 = 12\n",
      "6 X 3 = 18\n",
      "6 X 4 = 24\n",
      "6 X 5 = 30\n",
      "6 X 6 = 36\n",
      "6 X 7 = 42\n",
      "6 X 8 = 48\n",
      "6 X 9 = 54\n",
      "\n",
      "\n",
      "7 X 1 = 7\n",
      "7 X 2 = 14\n",
      "7 X 3 = 21\n",
      "7 X 4 = 28\n",
      "7 X 5 = 35\n",
      "7 X 6 = 42\n",
      "7 X 7 = 49\n",
      "7 X 8 = 56\n",
      "7 X 9 = 63\n",
      "\n",
      "\n",
      "8 X 1 = 8\n",
      "8 X 2 = 16\n",
      "8 X 3 = 24\n",
      "8 X 4 = 32\n",
      "8 X 5 = 40\n",
      "8 X 6 = 48\n",
      "8 X 7 = 56\n",
      "8 X 8 = 64\n",
      "8 X 9 = 72\n",
      "\n",
      "\n",
      "9 X 1 = 9\n",
      "9 X 2 = 18\n",
      "9 X 3 = 27\n",
      "9 X 4 = 36\n",
      "9 X 5 = 45\n",
      "9 X 6 = 54\n",
      "9 X 7 = 63\n",
      "9 X 8 = 72\n",
      "9 X 9 = 81\n",
      "\n",
      "\n"
     ]
    }
   ],
   "source": [
    "for index in range(2, 10):\n",
    "    for index_2 in range(1, 10):\n",
    "        print(index, \"X\", index_2, \"=\", index*index_2)\n",
    "    print('\\n')"
   ]
  },
  {
   "cell_type": "code",
   "execution_count": 22,
   "id": "dd1bc267",
   "metadata": {},
   "outputs": [
    {
     "name": "stdout",
     "output_type": "stream",
     "text": [
      "2 X 1 = 2\n",
      "2 X 2 = 4\n",
      "2 X 3 = 6\n",
      "2 X 4 = 8\n",
      "2 X 5 = 10\n",
      "2 X 6 = 12\n",
      "2 X 7 = 14\n",
      "2 X 8 = 16\n",
      "2 X 9 = 18\n",
      "\n",
      "\n",
      "3 X 2 = 6\n",
      "3 X 4 = 12\n",
      "3 X 6 = 18\n",
      "3 X 8 = 24\n",
      "\n",
      "\n",
      "4 X 1 = 4\n",
      "4 X 2 = 8\n",
      "4 X 3 = 12\n",
      "4 X 4 = 16\n",
      "4 X 5 = 20\n",
      "4 X 6 = 24\n",
      "4 X 7 = 28\n",
      "4 X 8 = 32\n",
      "4 X 9 = 36\n",
      "\n",
      "\n",
      "5 X 2 = 10\n",
      "5 X 4 = 20\n",
      "5 X 6 = 30\n",
      "5 X 8 = 40\n",
      "\n",
      "\n",
      "6 X 1 = 6\n",
      "6 X 2 = 12\n",
      "6 X 3 = 18\n",
      "6 X 4 = 24\n",
      "6 X 5 = 30\n",
      "6 X 6 = 36\n",
      "6 X 7 = 42\n",
      "6 X 8 = 48\n",
      "6 X 9 = 54\n",
      "\n",
      "\n",
      "7 X 2 = 14\n",
      "7 X 4 = 28\n",
      "7 X 6 = 42\n",
      "7 X 8 = 56\n",
      "\n",
      "\n",
      "8 X 1 = 8\n",
      "8 X 2 = 16\n",
      "8 X 3 = 24\n",
      "8 X 4 = 32\n",
      "8 X 5 = 40\n",
      "8 X 6 = 48\n",
      "8 X 7 = 56\n",
      "8 X 8 = 64\n",
      "8 X 9 = 72\n",
      "\n",
      "\n",
      "9 X 2 = 18\n",
      "9 X 4 = 36\n",
      "9 X 6 = 54\n",
      "9 X 8 = 72\n",
      "\n",
      "\n"
     ]
    }
   ],
   "source": [
    "for index in range(2, 10):\n",
    "    for index_2 in range(1, 10):\n",
    "        if((index*index_2) % 2 == 0):\n",
    "            print(index, \"X\", index_2, \"=\", index*index_2)\n",
    "    print('\\n')"
   ]
  },
  {
   "cell_type": "code",
   "execution_count": 23,
   "id": "d3b16fab",
   "metadata": {},
   "outputs": [
    {
     "name": "stdout",
     "output_type": "stream",
     "text": [
      "6209동 101호\n",
      "6209동 102호\n",
      "6209동 103호\n",
      "6209동 104호\n",
      "\n",
      "\n",
      "6208동 101호\n",
      "6208동 102호\n",
      "6208동 103호\n",
      "6208동 104호\n",
      "\n",
      "\n",
      "6207동 101호\n",
      "6207동 102호\n",
      "6207동 103호\n",
      "6207동 104호\n",
      "\n",
      "\n"
     ]
    }
   ],
   "source": [
    "dongs = [\"6209동\", \"6208동\", \"6207동\"]\n",
    "hos = [\"101호\", \"102호\", \"103호\", \"104호\"]\n",
    "\n",
    "for dong in dongs:\n",
    "    for ho in hos:\n",
    "        print (dong, ho)\n",
    "    print (\"\\n\")"
   ]
  },
  {
   "cell_type": "code",
   "execution_count": 30,
   "id": "da11c24d",
   "metadata": {},
   "outputs": [
    {
     "name": "stdout",
     "output_type": "stream",
     "text": [
      "a e\n"
     ]
    }
   ],
   "source": [
    "data = ('a', 'b', 'c', 'd', 'e')\n",
    "print (data[0], data[-1])"
   ]
  },
  {
   "cell_type": "code",
   "execution_count": 31,
   "id": "49ce494f",
   "metadata": {},
   "outputs": [
    {
     "name": "stdout",
     "output_type": "stream",
     "text": [
      "1 2\n",
      "2 1\n"
     ]
    }
   ],
   "source": [
    "var1, var2 = 1, 2\n",
    "print (var1, var2)\n",
    "\n",
    "var1, var2 = var2, var1 # swapping\n",
    "print (var1, var2)"
   ]
  },
  {
   "cell_type": "code",
   "execution_count": 32,
   "id": "3ef83246",
   "metadata": {},
   "outputs": [
    {
     "name": "stdout",
     "output_type": "stream",
     "text": [
      "1 2 3\n",
      "2 3 1\n"
     ]
    }
   ],
   "source": [
    "var1, var2, var3 = 1, 2, 3\n",
    "print (var1, var2, var3)\n",
    "\n",
    "var1, var2, var3 = var2, var3, var1 # swapping\n",
    "print (var1, var2, var3)"
   ]
  },
  {
   "cell_type": "code",
   "execution_count": 36,
   "id": "dab060d7",
   "metadata": {},
   "outputs": [
    {
     "data": {
      "text/plain": [
       "('fun-coding3', 'fun-coding4', 'fun-coding5')"
      ]
     },
     "execution_count": 36,
     "metadata": {},
     "output_type": "execute_result"
    }
   ],
   "source": [
    "tupledata = ('fun-coding1', 'fun-coding2', 'fun-coding3', 'fun-coding4', 'fun-coding5')\n",
    "data = list(tupledata)\n",
    "del data[0]\n",
    "data.remove('fun-coding2')\n",
    "tuple(data)"
   ]
  },
  {
   "cell_type": "code",
   "execution_count": 37,
   "id": "bfc8b1ad",
   "metadata": {},
   "outputs": [
    {
     "data": {
      "text/plain": [
       "('fun-coding1', 'fun-coding2', 'fun-coding3', 'fun-coding4')"
      ]
     },
     "execution_count": 37,
     "metadata": {},
     "output_type": "execute_result"
    }
   ],
   "source": [
    "tupledata = ('fun-coding1', 'fun-coding2', 'fun-coding3')\n",
    "data = list(tupledata)\n",
    "data.append('fun-coding4')\n",
    "tuple(data)"
   ]
  },
  {
   "cell_type": "code",
   "execution_count": 39,
   "id": "2ee15094",
   "metadata": {},
   "outputs": [
    {
     "name": "stdout",
     "output_type": "stream",
     "text": [
      "<class 'tuple'> <class 'list'> <class 'dict'> <class 'set'>\n"
     ]
    }
   ],
   "source": [
    "data1 = tuple()\n",
    "data2 = list()\n",
    "data3 = dict()\n",
    "data4 = set()\n",
    "print (type(data1), type(data2), type(data3), type(data4))"
   ]
  },
  {
   "cell_type": "code",
   "execution_count": 43,
   "id": "2b404a8c",
   "metadata": {},
   "outputs": [
    {
     "name": "stdout",
     "output_type": "stream",
     "text": [
      "{'environment': '환경', 'company': '회사', 'government': '정부, 정치', 'face': '얼굴'}\n",
      "['environment', 'company', 'government', 'face']\n",
      "['환경', '회사', '정부, 정치', '얼굴']\n"
     ]
    }
   ],
   "source": [
    "data = {'environment': '환경', 'company': '회사', 'government': '정부, 정치', 'face': '얼굴'}\n",
    "\n",
    "keys = data.keys()\n",
    "values = data.values()\n",
    "\n",
    "print (data)\n",
    "print (list(keys))\n",
    "print (list(values))"
   ]
  },
  {
   "cell_type": "code",
   "execution_count": 45,
   "id": "f52c7f7a",
   "metadata": {},
   "outputs": [
    {
     "name": "stdout",
     "output_type": "stream",
     "text": [
      "environment : 환경\n",
      "company : 회사\n",
      "government : 정부, 정치\n",
      "face : 얼굴\n"
     ]
    }
   ],
   "source": [
    "data = {'environment': '환경', 'company': '회사', 'government': '정부, 정치', 'face': '얼굴'}\n",
    "\n",
    "for item in data.keys():\n",
    "    print(item, \":\", data[item])"
   ]
  },
  {
   "cell_type": "code",
   "execution_count": 48,
   "id": "62dd946f",
   "metadata": {},
   "outputs": [
    {
     "name": "stdout",
     "output_type": "stream",
     "text": [
      "environment\n",
      "government\n",
      "face\n"
     ]
    }
   ],
   "source": [
    "data = {'environment': ['환경', 'X'], 'company': ['회사', 'O'], 'government': ['정부, 정치', 'X'], 'face': ['얼굴', 'X']}\n",
    "\n",
    "for item in data.keys():\n",
    "    data_list = data[item]\n",
    "    if data_list[1] == 'X':\n",
    "        print(item)"
   ]
  },
  {
   "cell_type": "code",
   "execution_count": 49,
   "id": "f82f2884",
   "metadata": {},
   "outputs": [
    {
     "name": "stdout",
     "output_type": "stream",
     "text": [
      "government\n",
      "environment\n",
      "face\n"
     ]
    }
   ],
   "source": [
    "data = {'environment': ['환경', 'X'], 'company': ['회사', 'O'], 'government': ['정부, 정치', 'X'], 'face': ['얼굴', 'X']}\n",
    "\n",
    "english = input()\n",
    "if english in data.keys():\n",
    "    data[english][1] = 'O'\n",
    "\n",
    "for item in data.keys():\n",
    "    data_list = data[item]\n",
    "    if data_list[1] == 'X':\n",
    "        print (item)"
   ]
  },
  {
   "cell_type": "code",
   "execution_count": 54,
   "id": "2fac3304",
   "metadata": {},
   "outputs": [
    {
     "data": {
      "text/plain": [
       "{'environment': '환경',\n",
       " 'gonernment': '정부, 정치',\n",
       " 'company': '회사',\n",
       " 'face': '얼굴',\n",
       " 'apple': '사과'}"
      ]
     },
     "execution_count": 54,
     "metadata": {},
     "output_type": "execute_result"
    }
   ],
   "source": [
    "dict_all = {'environment': '환경', 'gonernment':'정부, 정치'}\n",
    "dict2 = {'company': '회사', 'face':'얼굴'}\n",
    "dict3 = {'apple': '사과'}\n",
    "\n",
    "for item in dict2.keys():\n",
    "    dict_all[item] = dict2[item]\n",
    "    \n",
    "for item in dict3.keys():\n",
    "    dict_all[item] = dict3[item]\n",
    "    \n",
    "dict_all"
   ]
  },
  {
   "cell_type": "code",
   "execution_count": 62,
   "id": "5007966e",
   "metadata": {},
   "outputs": [
    {
     "name": "stdout",
     "output_type": "stream",
     "text": [
      "배우 이름: 마동석\n",
      "홈페이지: https://www.instagram.com/madongseok\n",
      "출연 영화 갯수: 3\n"
     ]
    }
   ],
   "source": [
    "actor_info = {'actor_details': {'생년월일': '1971-03-01',\n",
    "                   '성별': '남',\n",
    "                   '직업': '배우',\n",
    "                   '홈페이지': 'https://www.instagram.com/madongseok'},\n",
    " 'actor_name': '마동석',\n",
    " 'actor_rate': 59361,\n",
    " 'date': '2017-10',\n",
    " 'movie_list': ['범죄도시', '부라더', '부산행']}\n",
    "\n",
    "print (\"배우 이름:\", actor_info['actor_name'])\n",
    "print (\"홈페이지:\", actor_info['actor_details']['홈페이지'])\n",
    "print (\"출연 영화 갯수:\", len(actor_info['movie_list']))"
   ]
  },
  {
   "cell_type": "code",
   "execution_count": 63,
   "id": "5a786534",
   "metadata": {},
   "outputs": [
    {
     "data": {
      "text/plain": [
       "{1, 2, 3, 4, 5, 6, 7, 8, 9, 10}"
      ]
     },
     "execution_count": 63,
     "metadata": {},
     "output_type": "execute_result"
    }
   ],
   "source": [
    "number_list = [5, 1, 2, 2, 3, 3, 4, 5, 5, 6, 7, 8, 9, 9, 10, 10]\n",
    "number_list1 = set(number_list)\n",
    "number_list1"
   ]
  },
  {
   "cell_type": "code",
   "execution_count": 67,
   "id": "fbaa5ad0",
   "metadata": {},
   "outputs": [
    {
     "name": "stdout",
     "output_type": "stream",
     "text": [
      "5\n",
      "6\n",
      "0\n"
     ]
    }
   ],
   "source": [
    "def cal(x, y, way):\n",
    "    if way == '+':\n",
    "        return x + y\n",
    "    elif way == '*':\n",
    "        return x * y\n",
    "    else:\n",
    "        return 0\n",
    "    \n",
    "print(cal(2, 3, '+'))\n",
    "print(cal(2, 3, '*'))\n",
    "print(cal(2, 3, '-'))"
   ]
  },
  {
   "cell_type": "code",
   "execution_count": 74,
   "id": "a68a1179",
   "metadata": {},
   "outputs": [
    {
     "data": {
      "text/plain": [
       "['Fun', 'Fun', 'Fun']"
      ]
     },
     "execution_count": 74,
     "metadata": {},
     "output_type": "execute_result"
    }
   ],
   "source": [
    "def print_string(string, digit):\n",
    "    data = []\n",
    "    for index in range(digit):\n",
    "        data.append(string)\n",
    "    return data\n",
    "\n",
    "print_string('Fun', 3)"
   ]
  },
  {
   "cell_type": "code",
   "execution_count": null,
   "id": "28549bbd",
   "metadata": {},
   "outputs": [],
   "source": []
  }
 ],
 "metadata": {
  "kernelspec": {
   "display_name": "Python 3 (ipykernel)",
   "language": "python",
   "name": "python3"
  },
  "language_info": {
   "codemirror_mode": {
    "name": "ipython",
    "version": 3
   },
   "file_extension": ".py",
   "mimetype": "text/x-python",
   "name": "python",
   "nbconvert_exporter": "python",
   "pygments_lexer": "ipython3",
   "version": "3.9.12"
  }
 },
 "nbformat": 4,
 "nbformat_minor": 5
}
